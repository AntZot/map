{
 "cells": [
  {
   "cell_type": "code",
   "execution_count": 2,
   "metadata": {},
   "outputs": [],
   "source": [
    "import pandas as pd\n",
    "import numpy as np\n",
    "from catboost import CatBoostRegressor \n",
    "from scipy.spatial.distance import cdist\n",
    "import json"
   ]
  },
  {
   "cell_type": "code",
   "execution_count": 137,
   "metadata": {},
   "outputs": [],
   "source": [
    "data = pd.read_csv(\"best_places_copy.csv\",sep=\";\",index_col=0)"
   ]
  },
  {
   "cell_type": "code",
   "execution_count": 138,
   "metadata": {},
   "outputs": [],
   "source": [
    "data.drop([\"Unnamed: 0\"],axis=1,inplace=True)"
   ]
  },
  {
   "cell_type": "code",
   "execution_count": 139,
   "metadata": {},
   "outputs": [],
   "source": [
    "data.reset_index(drop=True,inplace=True)"
   ]
  },
  {
   "cell_type": "code",
   "execution_count": 140,
   "metadata": {},
   "outputs": [],
   "source": [
    "rates = np.random.ranf(40124) + np.random.randint(0,5,size=40124)+0.000001"
   ]
  },
  {
   "cell_type": "code",
   "execution_count": 141,
   "metadata": {},
   "outputs": [
    {
     "data": {
      "text/plain": [
       "array([2.51447167, 2.47957186, 0.68664876, ..., 3.34170397, 4.50897316,\n",
       "       0.42488109])"
      ]
     },
     "execution_count": 141,
     "metadata": {},
     "output_type": "execute_result"
    }
   ],
   "source": [
    "rates"
   ]
  },
  {
   "cell_type": "code",
   "execution_count": 142,
   "metadata": {},
   "outputs": [],
   "source": [
    "rates_final = np.round(rates,1)"
   ]
  },
  {
   "cell_type": "code",
   "execution_count": 143,
   "metadata": {},
   "outputs": [
    {
     "data": {
      "text/plain": [
       "array([2.5, 2.5, 0.7, ..., 3.3, 4.5, 0.4])"
      ]
     },
     "execution_count": 143,
     "metadata": {},
     "output_type": "execute_result"
    }
   ],
   "source": [
    "rates_final"
   ]
  },
  {
   "cell_type": "code",
   "execution_count": 144,
   "metadata": {},
   "outputs": [
    {
     "data": {
      "text/html": [
       "<div>\n",
       "<style scoped>\n",
       "    .dataframe tbody tr th:only-of-type {\n",
       "        vertical-align: middle;\n",
       "    }\n",
       "\n",
       "    .dataframe tbody tr th {\n",
       "        vertical-align: top;\n",
       "    }\n",
       "\n",
       "    .dataframe thead th {\n",
       "        text-align: right;\n",
       "    }\n",
       "</style>\n",
       "<table border=\"1\" class=\"dataframe\">\n",
       "  <thead>\n",
       "    <tr style=\"text-align: right;\">\n",
       "      <th></th>\n",
       "      <th>Places</th>\n",
       "      <th>Addres</th>\n",
       "      <th>lng</th>\n",
       "      <th>ltd</th>\n",
       "      <th>rates</th>\n",
       "    </tr>\n",
       "  </thead>\n",
       "  <tbody>\n",
       "    <tr>\n",
       "      <th>0</th>\n",
       "      <td>Александринский театр</td>\n",
       "      <td>Александринский театр, 6, площадь Островского,...</td>\n",
       "      <td>30.336182</td>\n",
       "      <td>59.931796</td>\n",
       "      <td>2.5</td>\n",
       "    </tr>\n",
       "    <tr>\n",
       "      <th>1</th>\n",
       "      <td>Александро-Невская лавра</td>\n",
       "      <td>Свято-Троицкая Александро-Невская Лавра, просп...</td>\n",
       "      <td>30.387581</td>\n",
       "      <td>59.921123</td>\n",
       "      <td>2.5</td>\n",
       "    </tr>\n",
       "    <tr>\n",
       "      <th>2</th>\n",
       "      <td>Александровская колонна</td>\n",
       "      <td>Александровская колонна, Дворцовая площадь, Дв...</td>\n",
       "      <td>30.315816</td>\n",
       "      <td>59.939043</td>\n",
       "      <td>0.7</td>\n",
       "    </tr>\n",
       "    <tr>\n",
       "      <th>3</th>\n",
       "      <td>Аничков мост</td>\n",
       "      <td>Аничков мост, Апраксин двор, округ № 78, Санкт...</td>\n",
       "      <td>30.342877</td>\n",
       "      <td>59.933248</td>\n",
       "      <td>0.2</td>\n",
       "    </tr>\n",
       "    <tr>\n",
       "      <th>4</th>\n",
       "      <td>Антониево-Дымский монастырь</td>\n",
       "      <td>Антониево-Дымский монастырь, А-114, Бурково, Б...</td>\n",
       "      <td>33.681941</td>\n",
       "      <td>59.574368</td>\n",
       "      <td>3.3</td>\n",
       "    </tr>\n",
       "    <tr>\n",
       "      <th>...</th>\n",
       "      <td>...</td>\n",
       "      <td>...</td>\n",
       "      <td>...</td>\n",
       "      <td>...</td>\n",
       "      <td>...</td>\n",
       "    </tr>\n",
       "    <tr>\n",
       "      <th>40119</th>\n",
       "      <td>Северный служебный флигель</td>\n",
       "      <td>г. Москва, ул. Тимирязевская, д. 54</td>\n",
       "      <td>55.832545</td>\n",
       "      <td>37.550298</td>\n",
       "      <td>0.2</td>\n",
       "    </tr>\n",
       "    <tr>\n",
       "      <th>40120</th>\n",
       "      <td>Ферма</td>\n",
       "      <td>г. Москва, ул. Тимирязевская, д. 48</td>\n",
       "      <td>55.832545</td>\n",
       "      <td>37.550298</td>\n",
       "      <td>1.7</td>\n",
       "    </tr>\n",
       "    <tr>\n",
       "      <th>40121</th>\n",
       "      <td>Парк с прудами</td>\n",
       "      <td>г. Москва, Тимирязевская ул., вл. 49, 52, 58, ...</td>\n",
       "      <td>55.832545</td>\n",
       "      <td>37.550298</td>\n",
       "      <td>3.3</td>\n",
       "    </tr>\n",
       "    <tr>\n",
       "      <th>40122</th>\n",
       "      <td>Южный служебный флигель</td>\n",
       "      <td>г. Москва, ул. Тимирязевская, д. 52 (часть)</td>\n",
       "      <td>55.832545</td>\n",
       "      <td>37.550298</td>\n",
       "      <td>4.5</td>\n",
       "    </tr>\n",
       "    <tr>\n",
       "      <th>40123</th>\n",
       "      <td>Флигель дворца</td>\n",
       "      <td>г. Москва, ул. Тимирязевская, д. 47</td>\n",
       "      <td>55.832545</td>\n",
       "      <td>37.550298</td>\n",
       "      <td>0.4</td>\n",
       "    </tr>\n",
       "  </tbody>\n",
       "</table>\n",
       "<p>40124 rows × 5 columns</p>\n",
       "</div>"
      ],
      "text/plain": [
       "                            Places  \\\n",
       "0            Александринский театр   \n",
       "1         Александро-Невская лавра   \n",
       "2          Александровская колонна   \n",
       "3                     Аничков мост   \n",
       "4      Антониево-Дымский монастырь   \n",
       "...                            ...   \n",
       "40119   Северный служебный флигель   \n",
       "40120                        Ферма   \n",
       "40121               Парк с прудами   \n",
       "40122      Южный служебный флигель   \n",
       "40123               Флигель дворца   \n",
       "\n",
       "                                                  Addres        lng  \\\n",
       "0      Александринский театр, 6, площадь Островского,...  30.336182   \n",
       "1      Свято-Троицкая Александро-Невская Лавра, просп...  30.387581   \n",
       "2      Александровская колонна, Дворцовая площадь, Дв...  30.315816   \n",
       "3      Аничков мост, Апраксин двор, округ № 78, Санкт...  30.342877   \n",
       "4      Антониево-Дымский монастырь, А-114, Бурково, Б...  33.681941   \n",
       "...                                                  ...        ...   \n",
       "40119                г. Москва, ул. Тимирязевская, д. 54  55.832545   \n",
       "40120                г. Москва, ул. Тимирязевская, д. 48  55.832545   \n",
       "40121  г. Москва, Тимирязевская ул., вл. 49, 52, 58, ...  55.832545   \n",
       "40122        г. Москва, ул. Тимирязевская, д. 52 (часть)  55.832545   \n",
       "40123                г. Москва, ул. Тимирязевская, д. 47  55.832545   \n",
       "\n",
       "             ltd  rates  \n",
       "0      59.931796    2.5  \n",
       "1      59.921123    2.5  \n",
       "2      59.939043    0.7  \n",
       "3      59.933248    0.2  \n",
       "4      59.574368    3.3  \n",
       "...          ...    ...  \n",
       "40119  37.550298    0.2  \n",
       "40120  37.550298    1.7  \n",
       "40121  37.550298    3.3  \n",
       "40122  37.550298    4.5  \n",
       "40123  37.550298    0.4  \n",
       "\n",
       "[40124 rows x 5 columns]"
      ]
     },
     "execution_count": 144,
     "metadata": {},
     "output_type": "execute_result"
    }
   ],
   "source": [
    "data[\"rates\"] = rates_final\n",
    "data"
   ]
  },
  {
   "cell_type": "code",
   "execution_count": 4,
   "metadata": {},
   "outputs": [],
   "source": [
    "fl = open(\"../query.txt\")\n",
    "dt = json.loads(fl.read())\n",
    "query= np.array(dt)"
   ]
  },
  {
   "cell_type": "code",
   "execution_count": 147,
   "metadata": {},
   "outputs": [
    {
     "data": {
      "text/plain": [
       "(502, 2)"
      ]
     },
     "execution_count": 147,
     "metadata": {},
     "output_type": "execute_result"
    }
   ],
   "source": [
    "query.shape"
   ]
  },
  {
   "cell_type": "code",
   "execution_count": 5,
   "metadata": {},
   "outputs": [],
   "source": [
    "rec_distance = 0.02\n",
    "\n",
    "data= np.array(query)\n",
    "data_LandMark = pd.read_csv(\"best_places.csv\",sep=\";\",index_col=0)\n",
    "#points = np.array(points)\n",
    "#Чтение датасета мест\n",
    "np_landmark = data_LandMark[[\"ltd\",\"lng\"]].to_numpy()\n",
    "\n",
    "\n",
    "\n",
    "data_dist = cdist(data,np_landmark,metric=\"euclidean\")\n",
    "\n",
    "norm=[]\n",
    "for i in np.unique(np.where(data_dist<rec_distance)[1]):    \n",
    "    norm.append(np.min(data_dist[:,i]))\n",
    "\n",
    "# sliced_data = data_LandMark.iloc[np.unique(np.where(data_dist<rec_distance)[1])]\n",
    "# sliced_data[\"dist\"] = norm\n",
    "sliced_data = data_LandMark\n",
    "sliced_data[\"dist\"] = np.min(data_dist,axis=0)"
   ]
  },
  {
   "cell_type": "code",
   "execution_count": 7,
   "metadata": {},
   "outputs": [
    {
     "data": {
      "text/plain": [
       "(array([  2.,   0.,   1.,   0.,   0.,   0.,   2.,   3.,  31., 165.]),\n",
       " array([0. , 0.5, 1. , 1.5, 2. , 2.5, 3. , 3.5, 4. , 4.5, 5. ]),\n",
       " <BarContainer object of 10 artists>)"
      ]
     },
     "execution_count": 7,
     "metadata": {},
     "output_type": "execute_result"
    },
    {
     "data": {
      "image/png": "[encoded data removed]",
      "text/plain": [
       "<Figure size 432x288 with 1 Axes>"
      ]
     },
     "metadata": {
      "needs_background": "light"
     },
     "output_type": "display_data"
    }
   ],
   "source": [
    "import matplotlib.pyplot as plt\n",
    "import seaborn as sns\n",
    "# matplotlib histogram\n",
    "#plt.hist(sliced_data[\"dist\"], color = 'blue', edgecolor = 'black')\n",
    "plt.hist(sliced_data[\"rates\"], color = 'red', edgecolor = 'black')"
   ]
  },
  {
   "cell_type": "code",
   "execution_count": 362,
   "metadata": {},
   "outputs": [
    {
     "data": {
      "text/plain": [
       "(array([3655., 4007., 4090., 3978., 3987., 3974., 3985., 4008., 3913.,\n",
       "        4413.]),\n",
       " array([0. , 0.5, 1. , 1.5, 2. , 2.5, 3. , 3.5, 4. , 4.5, 5. ]),\n",
       " <BarContainer object of 10 artists>)"
      ]
     },
     "execution_count": 362,
     "metadata": {},
     "output_type": "execute_result"
    },
    {
     "data": {
      "image/png": "[encoded data removed]",
      "text/plain": [
       "<Figure size 432x288 with 1 Axes>"
      ]
     },
     "metadata": {
      "needs_background": "light"
     },
     "output_type": "display_data"
    }
   ],
   "source": [
    "plt.hist(data_LandMark_last[\"rates\"], color = 'red', edgecolor = 'black')"
   ]
  },
  {
   "cell_type": "code",
   "execution_count": 4,
   "metadata": {},
   "outputs": [
    {
     "data": {
      "text/plain": [
       "(array([3634., 3993., 4074., 3965., 3980., 3955., 3974., 3995., 3907.,\n",
       "        4473.]),\n",
       " array([0. , 0.5, 1. , 1.5, 2. , 2.5, 3. , 3.5, 4. , 4.5, 5. ]),\n",
       " <BarContainer object of 10 artists>)"
      ]
     },
     "execution_count": 4,
     "metadata": {},
     "output_type": "execute_result"
    },
    {
     "data": {
      "image/png": "[encoded data removed]",
      "text/plain": [
       "<Figure size 432x288 with 1 Axes>"
      ]
     },
     "metadata": {
      "needs_background": "light"
     },
     "output_type": "display_data"
    }
   ],
   "source": [
    "data_LandMark = pd.read_csv(\"best_places_2.csv\",sep=\";\",index_col=0)\n",
    "#plt.hist(data_LandMark_last[\"rates\"], color = 'blue', edgecolor = 'black')\n",
    "plt.hist(data_LandMark[\"rates\"], color = 'red', edgecolor = 'black')"
   ]
  },
  {
   "cell_type": "code",
   "execution_count": 380,
   "metadata": {},
   "outputs": [],
   "source": [
    "regressor = CatBoostRegressor(iterations=1000)"
   ]
  },
  {
   "cell_type": "code",
   "execution_count": 381,
   "metadata": {},
   "outputs": [],
   "source": [
    "target = sliced_data[\"rates\"]/sliced_data[\"dist\"]  "
   ]
  },
  {
   "cell_type": "code",
   "execution_count": 382,
   "metadata": {},
   "outputs": [],
   "source": [
    "from sklearn.model_selection import train_test_split"
   ]
  },
  {
   "cell_type": "code",
   "execution_count": 395,
   "metadata": {},
   "outputs": [],
   "source": [
    "X_train,X_test,y_train, y_tets = train_test_split(sliced_data[[\"rates\",\"dist\"]],target,shuffle=True)"
   ]
  },
  {
   "cell_type": "code",
   "execution_count": 396,
   "metadata": {},
   "outputs": [
    {
     "data": {
      "application/vnd.jupyter.widget-view+json": {
       "model_id": "071f85e4b42c410391e2133c794a094c",
       "version_major": 2,
       "version_minor": 0
      },
      "text/plain": [
       "MetricVisualizer(layout=Layout(align_self='stretch', height='500px'))"
      ]
     },
     "metadata": {},
     "output_type": "display_data"
    },
    {
     "data": {
      "text/plain": [
       "<catboost.core.CatBoostRegressor at 0x19cbd326340>"
      ]
     },
     "execution_count": 396,
     "metadata": {},
     "output_type": "execute_result"
    }
   ],
   "source": [
    "regressor.fit(X_train,y_train,verbose=False,plot=True)"
   ]
  },
  {
   "cell_type": "code",
   "execution_count": 397,
   "metadata": {},
   "outputs": [],
   "source": [
    "from sklearn.metrics import mean_squared_error"
   ]
  },
  {
   "cell_type": "code",
   "execution_count": 398,
   "metadata": {},
   "outputs": [
    {
     "data": {
      "text/plain": [
       "{'learn': {'RMSE': 0.992638090552624}}"
      ]
     },
     "execution_count": 398,
     "metadata": {},
     "output_type": "execute_result"
    }
   ],
   "source": [
    "regressor.best_score_"
   ]
  },
  {
   "cell_type": "code",
   "execution_count": 399,
   "metadata": {},
   "outputs": [
    {
     "data": {
      "text/plain": [
       "400.53549465478693"
      ]
     },
     "execution_count": 399,
     "metadata": {},
     "output_type": "execute_result"
    }
   ],
   "source": [
    "mean_squared_error(y_tets,regressor.predict(X_test))"
   ]
  },
  {
   "cell_type": "code",
   "execution_count": 339,
   "metadata": {},
   "outputs": [],
   "source": [
    "regressor.save_model(\"model\")"
   ]
  }
 ],
 "metadata": {
  "kernelspec": {
   "display_name": "Python 3",
   "language": "python",
   "name": "python3"
  },
  "language_info": {
   "codemirror_mode": {
    "name": "ipython",
    "version": 3
   },
   "file_extension": ".py",
   "mimetype": "text/x-python",
   "name": "python",
   "nbconvert_exporter": "python",
   "pygments_lexer": "ipython3",
   "version": "3.9.7"
  },
  "orig_nbformat": 4
 },
 "nbformat": 4,
 "nbformat_minor": 2
}
