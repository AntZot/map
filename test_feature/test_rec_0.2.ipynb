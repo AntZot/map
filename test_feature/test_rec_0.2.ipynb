{
 "cells": [
  {
   "cell_type": "code",
   "execution_count": 1,
   "metadata": {},
   "outputs": [],
   "source": [
    "import pandas as pd"
   ]
  },
  {
   "cell_type": "code",
   "execution_count": 3,
   "metadata": {},
   "outputs": [
    {
     "name": "stderr",
     "output_type": "stream",
     "text": [
      "C:\\Users\\Anton\\AppData\\Local\\Temp\\ipykernel_19876\\3821505978.py:1: DtypeWarning: Columns (1,45,48) have mixed types. Specify dtype option on import or set low_memory=False.\n",
      "  data = pd.read_csv(\"data-51-structure-6.csv\")\n"
     ]
    }
   ],
   "source": [
    "data = pd.read_csv(\"data-51-structure-6.csv\")"
   ]
  },
  {
   "cell_type": "code",
   "execution_count": 15,
   "metadata": {},
   "outputs": [],
   "source": [
    "import seaborn as sns"
   ]
  },
  {
   "cell_type": "code",
   "execution_count": 14,
   "metadata": {},
   "outputs": [
    {
     "data": {
      "text/html": [
       "<div>\n",
       "<style scoped>\n",
       "    .dataframe tbody tr th:only-of-type {\n",
       "        vertical-align: middle;\n",
       "    }\n",
       "\n",
       "    .dataframe tbody tr th {\n",
       "        vertical-align: top;\n",
       "    }\n",
       "\n",
       "    .dataframe thead th {\n",
       "        text-align: right;\n",
       "    }\n",
       "</style>\n",
       "<table border=\"1\" class=\"dataframe\">\n",
       "  <thead>\n",
       "    <tr style=\"text-align: right;\">\n",
       "      <th></th>\n",
       "      <th>X</th>\n",
       "      <th>Y</th>\n",
       "    </tr>\n",
       "  </thead>\n",
       "  <tbody>\n",
       "    <tr>\n",
       "      <th>0</th>\n",
       "      <td>NaN</td>\n",
       "      <td>NaN</td>\n",
       "    </tr>\n",
       "    <tr>\n",
       "      <th>1</th>\n",
       "      <td>NaN</td>\n",
       "      <td>NaN</td>\n",
       "    </tr>\n",
       "    <tr>\n",
       "      <th>2</th>\n",
       "      <td>NaN</td>\n",
       "      <td>NaN</td>\n",
       "    </tr>\n",
       "    <tr>\n",
       "      <th>3</th>\n",
       "      <td>NaN</td>\n",
       "      <td>NaN</td>\n",
       "    </tr>\n",
       "    <tr>\n",
       "      <th>4</th>\n",
       "      <td>NaN</td>\n",
       "      <td>NaN</td>\n",
       "    </tr>\n",
       "    <tr>\n",
       "      <th>...</th>\n",
       "      <td>...</td>\n",
       "      <td>...</td>\n",
       "    </tr>\n",
       "    <tr>\n",
       "      <th>151182</th>\n",
       "      <td>NaN</td>\n",
       "      <td>NaN</td>\n",
       "    </tr>\n",
       "    <tr>\n",
       "      <th>151183</th>\n",
       "      <td>NaN</td>\n",
       "      <td>NaN</td>\n",
       "    </tr>\n",
       "    <tr>\n",
       "      <th>151184</th>\n",
       "      <td>NaN</td>\n",
       "      <td>NaN</td>\n",
       "    </tr>\n",
       "    <tr>\n",
       "      <th>151185</th>\n",
       "      <td>NaN</td>\n",
       "      <td>NaN</td>\n",
       "    </tr>\n",
       "    <tr>\n",
       "      <th>151186</th>\n",
       "      <td>NaN</td>\n",
       "      <td>NaN</td>\n",
       "    </tr>\n",
       "  </tbody>\n",
       "</table>\n",
       "<p>151187 rows × 2 columns</p>\n",
       "</div>"
      ],
      "text/plain": [
       "         X   Y\n",
       "0      NaN NaN\n",
       "1      NaN NaN\n",
       "2      NaN NaN\n",
       "3      NaN NaN\n",
       "4      NaN NaN\n",
       "...     ..  ..\n",
       "151182 NaN NaN\n",
       "151183 NaN NaN\n",
       "151184 NaN NaN\n",
       "151185 NaN NaN\n",
       "151186 NaN NaN\n",
       "\n",
       "[151187 rows x 2 columns]"
      ]
     },
     "execution_count": 14,
     "metadata": {},
     "output_type": "execute_result"
    }
   ],
   "source": []
  },
  {
   "cell_type": "code",
   "execution_count": 8,
   "metadata": {},
   "outputs": [
    {
     "data": {
      "text/plain": [
       "Index(['Объект', 'Номер в реестре', 'название улицы', 'Комментарий',\n",
       "       'Идентификатор дома в ФИАС', 'FiasAuxSubobjId', 'FiasAuxObjId',\n",
       "       'Идентификатор улицы в ФИАС', 'Идентификатор населенного пункта в ФИАС',\n",
       "       'Идентификатор внутрегородской территории в ФИАС',\n",
       "       'Идентификатор города в ФИАС',\n",
       "       'Идентификатор городских и сельских поселений в ФИАС',\n",
       "       'Идентификатор района в ФИАС',\n",
       "       'Идентификатор автономного округа в ФИАС',\n",
       "       'Идентификатор региона в ФИАС', 'Идентификатор страны в ФИАС',\n",
       "       'Полный адрес', 'На карте', 'Id-Регион', 'Регион', 'учетный номер',\n",
       "       'Id-Категория историко-культурного значения',\n",
       "       'Категория историко-культурного значения',\n",
       "       'Id-Тип объекта культурного наследия',\n",
       "       'Тип объекта культурного наследия', 'Id-Вид объекта', 'Вид объекта',\n",
       "       'описание предмета охраны', 'текстовое описание границ',\n",
       "       'Id-общая видовая принадлежность', 'Id-Принадлежность к Юнеско',\n",
       "       'Принадлежность к Юнеско', 'Id-Особо ценный объект',\n",
       "       'Особо ценный объект', 'идентификатор ансамбля', 'дата создания',\n",
       "       'GeoId', 'X', 'Y', 'наименование документа', 'Изображение',\n",
       "       'зоны охраны и режимы использования земель', 'Items',\n",
       "       'Id - идентификатор', 'признак актуальности', 'признак публичности',\n",
       "       'год постановки ОКН на Госохрану', 'год проведения реставрации',\n",
       "       'параметры, идентифицирующие ФЦП', 'относительный URL объекта',\n",
       "       'категория объекта', 'дата создания объекта',\n",
       "       'дата обновления объекта'],\n",
       "      dtype='object')"
      ]
     },
     "execution_count": 8,
     "metadata": {},
     "output_type": "execute_result"
    }
   ],
   "source": [
    "data.columns"
   ]
  }
 ],
 "metadata": {
  "kernelspec": {
   "display_name": "Python 3",
   "language": "python",
   "name": "python3"
  },
  "language_info": {
   "codemirror_mode": {
    "name": "ipython",
    "version": 3
   },
   "file_extension": ".py",
   "mimetype": "text/x-python",
   "name": "python",
   "nbconvert_exporter": "python",
   "pygments_lexer": "ipython3",
   "version": "3.9.7"
  },
  "orig_nbformat": 4
 },
 "nbformat": 4,
 "nbformat_minor": 2
}
