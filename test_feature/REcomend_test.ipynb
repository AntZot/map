{
 "cells": [
  {
   "cell_type": "code",
   "execution_count": 2,
   "metadata": {},
   "outputs": [
    {
     "name": "stderr",
     "output_type": "stream",
     "text": [
      "c:\\Users\\Anton\\AppData\\Local\\Programs\\Python\\Python39\\lib\\site-packages\\scipy\\__init__.py:146: UserWarning: A NumPy version >=1.16.5 and <1.23.0 is required for this version of SciPy (detected version 1.23.5\n",
      "  warnings.warn(f\"A NumPy version >={np_minversion} and <{np_maxversion}\"\n"
     ]
    }
   ],
   "source": [
    "import pandas as pd\n",
    "import numpy as np\n",
    "import json\n",
    "import scipy.spatial as sc"
   ]
  },
  {
   "cell_type": "code",
   "execution_count": 3,
   "metadata": {},
   "outputs": [],
   "source": [
    "fl = open(\"../query.txt\")\n",
    "data = json.loads(fl.read())\n",
    "np_data= np.array(data)"
   ]
  },
  {
   "cell_type": "code",
   "execution_count": 4,
   "metadata": {},
   "outputs": [
    {
     "data": {
      "text/plain": [
       "array([55.71423, 37.62261])"
      ]
     },
     "execution_count": 4,
     "metadata": {},
     "output_type": "execute_result"
    }
   ],
   "source": [
    "np_data[-1]"
   ]
  },
  {
   "cell_type": "code",
   "execution_count": 5,
   "metadata": {},
   "outputs": [
    {
     "data": {
      "text/plain": [
       "array([55.94213, 36.95331])"
      ]
     },
     "execution_count": 5,
     "metadata": {},
     "output_type": "execute_result"
    }
   ],
   "source": [
    "np_data[0]"
   ]
  },
  {
   "cell_type": "code",
   "execution_count": 6,
   "metadata": {},
   "outputs": [],
   "source": [
    "data_LandMark = pd.read_csv(\"best_places.csv\",sep=\";\")"
   ]
  },
  {
   "cell_type": "code",
   "execution_count": 7,
   "metadata": {},
   "outputs": [],
   "source": [
    "np_landmark = data_LandMark[[\"ltd\",\"lng\"]].to_numpy()"
   ]
  },
  {
   "cell_type": "code",
   "execution_count": 8,
   "metadata": {},
   "outputs": [],
   "source": [
    "data_dist = sc.distance.cdist(np_data,np_landmark,metric=\"euclidean\")"
   ]
  },
  {
   "cell_type": "code",
   "execution_count": 9,
   "metadata": {},
   "outputs": [],
   "source": [
    "norm=[]\n",
    "for i in np.unique(np.where(data_dist<0.02)[1]):\n",
    "    norm.append(np.min(data_dist[:,i]))"
   ]
  },
  {
   "cell_type": "code",
   "execution_count": 10,
   "metadata": {},
   "outputs": [],
   "source": [
    "sliced_data = data_LandMark.iloc[np.unique(np.where(data_dist<0.02)[1])]"
   ]
  },
  {
   "cell_type": "code",
   "execution_count": 20,
   "metadata": {},
   "outputs": [
    {
     "data": {
      "text/html": [
       "<div>\n",
       "<style scoped>\n",
       "    .dataframe tbody tr th:only-of-type {\n",
       "        vertical-align: middle;\n",
       "    }\n",
       "\n",
       "    .dataframe tbody tr th {\n",
       "        vertical-align: top;\n",
       "    }\n",
       "\n",
       "    .dataframe thead th {\n",
       "        text-align: right;\n",
       "    }\n",
       "</style>\n",
       "<table border=\"1\" class=\"dataframe\">\n",
       "  <thead>\n",
       "    <tr style=\"text-align: right;\">\n",
       "      <th></th>\n",
       "      <th>Unnamed: 0</th>\n",
       "      <th>Places</th>\n",
       "      <th>Addres</th>\n",
       "      <th>lng</th>\n",
       "      <th>ltd</th>\n",
       "      <th>dist</th>\n",
       "    </tr>\n",
       "  </thead>\n",
       "  <tbody>\n",
       "    <tr>\n",
       "      <th>92</th>\n",
       "      <td>92</td>\n",
       "      <td>Новодевичий монастырь</td>\n",
       "      <td>Новодевичий монастырь, 1, Новодевичий проезд, ...</td>\n",
       "      <td>37.555771</td>\n",
       "      <td>55.726028</td>\n",
       "      <td>0.004028</td>\n",
       "    </tr>\n",
       "    <tr>\n",
       "      <th>24</th>\n",
       "      <td>24</td>\n",
       "      <td>Данилов монастырь</td>\n",
       "      <td>Данилов монастырь, 22, улица Даниловский Вал, ...</td>\n",
       "      <td>37.629595</td>\n",
       "      <td>55.710835</td>\n",
       "      <td>0.007020</td>\n",
       "    </tr>\n",
       "    <tr>\n",
       "      <th>88</th>\n",
       "      <td>88</td>\n",
       "      <td>Музей техники Вадима Задорожного</td>\n",
       "      <td>Музей техники Вадима Задорожного, Ильинское шо...</td>\n",
       "      <td>37.298658</td>\n",
       "      <td>55.796606</td>\n",
       "      <td>0.007085</td>\n",
       "    </tr>\n",
       "    <tr>\n",
       "      <th>136</th>\n",
       "      <td>136</td>\n",
       "      <td>Усадьба Архангельское</td>\n",
       "      <td>Усадьба, с6, Архангельское, городской округ Кр...</td>\n",
       "      <td>37.298949</td>\n",
       "      <td>55.786282</td>\n",
       "      <td>0.017362</td>\n",
       "    </tr>\n",
       "  </tbody>\n",
       "</table>\n",
       "</div>"
      ],
      "text/plain": [
       "     Unnamed: 0                            Places  \\\n",
       "92           92             Новодевичий монастырь   \n",
       "24           24                 Данилов монастырь   \n",
       "88           88  Музей техники Вадима Задорожного   \n",
       "136         136             Усадьба Архангельское   \n",
       "\n",
       "                                                Addres        lng        ltd  \\\n",
       "92   Новодевичий монастырь, 1, Новодевичий проезд, ...  37.555771  55.726028   \n",
       "24   Данилов монастырь, 22, улица Даниловский Вал, ...  37.629595  55.710835   \n",
       "88   Музей техники Вадима Задорожного, Ильинское шо...  37.298658  55.796606   \n",
       "136  Усадьба, с6, Архангельское, городской округ Кр...  37.298949  55.786282   \n",
       "\n",
       "         dist  \n",
       "92   0.004028  \n",
       "24   0.007020  \n",
       "88   0.007085  \n",
       "136  0.017362  "
      ]
     },
     "execution_count": 20,
     "metadata": {},
     "output_type": "execute_result"
    }
   ],
   "source": [
    "sliced_data[0:5]"
   ]
  },
  {
   "cell_type": "code",
   "execution_count": 12,
   "metadata": {},
   "outputs": [
    {
     "name": "stderr",
     "output_type": "stream",
     "text": [
      "C:\\Users\\Anton\\AppData\\Local\\Temp\\ipykernel_28132\\2074608039.py:1: SettingWithCopyWarning: \n",
      "A value is trying to be set on a copy of a slice from a DataFrame.\n",
      "Try using .loc[row_indexer,col_indexer] = value instead\n",
      "\n",
      "See the caveats in the documentation: https://pandas.pydata.org/pandas-docs/stable/user_guide/indexing.html#returning-a-view-versus-a-copy\n",
      "  sliced_data[\"dist\"] = norm\n"
     ]
    }
   ],
   "source": [
    "sliced_data[\"dist\"] = norm"
   ]
  },
  {
   "cell_type": "code",
   "execution_count": 13,
   "metadata": {},
   "outputs": [
    {
     "name": "stderr",
     "output_type": "stream",
     "text": [
      "C:\\Users\\Anton\\AppData\\Local\\Temp\\ipykernel_28132\\867217712.py:1: SettingWithCopyWarning: \n",
      "A value is trying to be set on a copy of a slice from a DataFrame\n",
      "\n",
      "See the caveats in the documentation: https://pandas.pydata.org/pandas-docs/stable/user_guide/indexing.html#returning-a-view-versus-a-copy\n",
      "  sliced_data.sort_values(by='dist',inplace=True)\n"
     ]
    }
   ],
   "source": [
    "sliced_data.sort_values(by='dist',inplace=True)"
   ]
  },
  {
   "cell_type": "code",
   "execution_count": 58,
   "metadata": {},
   "outputs": [],
   "source": [
    "result = sliced_data[[\"Places\",\"Addres\",\"lng\",\"ltd\"]].to_json(orient=\"split\",force_ascii=False,index=False)"
   ]
  },
  {
   "cell_type": "code",
   "execution_count": 59,
   "metadata": {},
   "outputs": [],
   "source": [
    "parsed = json.loads(result)"
   ]
  },
  {
   "cell_type": "code",
   "execution_count": 60,
   "metadata": {},
   "outputs": [
    {
     "data": {
      "text/plain": [
       "{'columns': ['Places', 'Addres', 'lng', 'ltd'],\n",
       " 'data': [['Новодевичий монастырь',\n",
       "   'Новодевичий монастырь, 1, Новодевичий проезд, 531, район Хамовники, Москва, Центральный федеральный округ, 119435, Россия',\n",
       "   37.555771044,\n",
       "   55.72602825],\n",
       "  ['Данилов монастырь',\n",
       "   'Данилов монастырь, 22, улица Даниловский Вал, Даниловский район, Москва, Центральный федеральный округ, 113093, Россия',\n",
       "   37.6295949279,\n",
       "   55.71083455],\n",
       "  ['Музей техники Вадима Задорожного',\n",
       "   'Музей техники Вадима Задорожного, Ильинское шоссе, посёлок дачного хозяйства «Архангельское», городской округ Красногорск, Московская область, Центральный федеральный округ, 143420, Россия',\n",
       "   37.2986581122,\n",
       "   55.79660555],\n",
       "  ['Усадьба Архангельское',\n",
       "   'Усадьба, с6, Архангельское, городской округ Красногорск, Московская область, Центральный федеральный округ, 143420, Россия',\n",
       "   37.298949,\n",
       "   55.786282]]}"
      ]
     },
     "execution_count": 60,
     "metadata": {},
     "output_type": "execute_result"
    }
   ],
   "source": [
    "parsed"
   ]
  }
 ],
 "metadata": {
  "kernelspec": {
   "display_name": "Python 3",
   "language": "python",
   "name": "python3"
  },
  "language_info": {
   "codemirror_mode": {
    "name": "ipython",
    "version": 3
   },
   "file_extension": ".py",
   "mimetype": "text/x-python",
   "name": "python",
   "nbconvert_exporter": "python",
   "pygments_lexer": "ipython3",
   "version": "3.9.7"
  },
  "orig_nbformat": 4,
  "vscode": {
   "interpreter": {
    "hash": "eeedea2d33308b6a28483936704865e960f19d1b64b2fbe66cf286ba9e0d4d41"
   }
  }
 },
 "nbformat": 4,
 "nbformat_minor": 2
}
