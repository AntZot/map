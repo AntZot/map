{
 "cells": [
  {
   "cell_type": "code",
   "execution_count": 18,
   "metadata": {},
   "outputs": [],
   "source": [
    "import requests\n",
    "import json\n",
    "import polyline"
   ]
  },
  {
   "cell_type": "code",
   "execution_count": 2,
   "metadata": {},
   "outputs": [],
   "source": [
    "res = requests.get(\"http://router.project-osrm.org/route/v1/driving/\"+\"55.800850685126484,37.48805023217025;55.705739415265704,37.595826996541064\")"
   ]
  },
  {
   "cell_type": "code",
   "execution_count": 12,
   "metadata": {},
   "outputs": [],
   "source": [
    "js = json.loads(res.text)"
   ]
  },
  {
   "cell_type": "code",
   "execution_count": 17,
   "metadata": {},
   "outputs": [
    {
     "data": {
      "text/plain": [
       "'umycFqrtsI_Vas@}i@fKsVeW_Eo^fCkFuWua@iJwo@}RiNsLNuBmv@qdAgfBiLtC_TiGmm@lo@cOgEsMfGgPuA_\\\\nPgo@eHoElJmLiDoA~MwKcPoJ`D}FyIeRw@i`@tHiEhTaG}KcEbVyH@oApFlIpbA~QxY`AlSva@za@wDn|@fFlDeCxG~Vln@wCb`@eFbFzFd_@oSrH_GxWc^t`@v`@t_Cr`@hd@fC~_@fLzX_YlYeo@rQuG|NbBxg@_JhGzC|LiJGnGfIRhUv_@~t@g@t[sPxR~Ax]cQ_Ql@sG_GzCSjWqD`Dif@bYr@qTiEd@kGtN'"
      ]
     },
     "execution_count": 17,
     "metadata": {},
     "output_type": "execute_result"
    }
   ],
   "source": [
    "js['routes'][0][\"geometry\"]"
   ]
  },
  {
   "cell_type": "code",
   "execution_count": 19,
   "metadata": {},
   "outputs": [
    {
     "data": {
      "text/plain": [
       "[(37.49099, 55.81625),\n",
       " (37.49467, 55.82458),\n",
       " (37.50154, 55.82262),\n",
       " (37.50532, 55.82649),\n",
       " (37.50628, 55.83153),\n",
       " (37.5056, 55.83271),\n",
       " (37.50955, 55.83826),\n",
       " (37.51136, 55.84606),\n",
       " (37.51455, 55.84851),\n",
       " (37.51673, 55.84843),\n",
       " (37.51732, 55.8573),\n",
       " (37.52845, 55.87382),\n",
       " (37.53058, 55.87307),\n",
       " (37.53394, 55.8744),\n",
       " (37.54137, 55.86665),\n",
       " (37.54395, 55.86765),\n",
       " (37.54629, 55.86633),\n",
       " (37.54905, 55.86676),\n",
       " (37.55369, 55.86396),\n",
       " (37.56141, 55.86543),\n",
       " (37.56245, 55.8636),\n",
       " (37.5646, 55.86445),\n",
       " (37.565, 55.86205),\n",
       " (37.56704, 55.86479),\n",
       " (37.56888, 55.86398),\n",
       " (37.57015, 55.86571),\n",
       " (37.57322, 55.86599),\n",
       " (37.57855, 55.86444),\n",
       " (37.57956, 55.86103),\n",
       " (37.58085, 55.8631),\n",
       " (37.58183, 55.8594),\n",
       " (37.5834, 55.85939),\n",
       " (37.5838, 55.85818),\n",
       " (37.58213, 55.84737),\n",
       " (37.57909, 55.84308),\n",
       " (37.57876, 55.83981),\n",
       " (37.5732, 55.83423),\n",
       " (37.57412, 55.82439),\n",
       " (37.57296, 55.82352),\n",
       " (37.57363, 55.82211),\n",
       " (37.56979, 55.81452),\n",
       " (37.57055, 55.80922),\n",
       " (37.5717, 55.80808),\n",
       " (37.57044, 55.80293),\n",
       " (37.57372, 55.80139),\n",
       " (37.575, 55.79742),\n",
       " (37.57998, 55.79203),\n",
       " (37.57458, 55.77144),\n",
       " (37.5692, 55.76547),\n",
       " (37.56852, 55.76019),\n",
       " (37.5664, 55.75605),\n",
       " (37.57056, 55.75182),\n",
       " (37.57827, 55.74884),\n",
       " (37.57966, 55.74629),\n",
       " (37.57916, 55.73976),\n",
       " (37.58092, 55.73843),\n",
       " (37.58014, 55.7362),\n",
       " (37.58195, 55.73624),\n",
       " (37.58059, 55.7346),\n",
       " (37.58049, 55.73103),\n",
       " (37.57525, 55.72239),\n",
       " (37.57545, 55.7178),\n",
       " (37.57827, 55.71463),\n",
       " (37.57779, 55.7097),\n",
       " (37.58069, 55.71258),\n",
       " (37.58046, 55.71396),\n",
       " (37.58174, 55.71318),\n",
       " (37.58184, 55.70928),\n",
       " (37.58273, 55.70847),\n",
       " (37.58902, 55.70429),\n",
       " (37.58876, 55.70774),\n",
       " (37.58977, 55.70755),\n",
       " (37.59111, 55.70504)]"
      ]
     },
     "execution_count": 19,
     "metadata": {},
     "output_type": "execute_result"
    }
   ],
   "source": [
    "polyline.decode(js['routes'][0][\"geometry\"])"
   ]
  }
 ],
 "metadata": {
  "kernelspec": {
   "display_name": "Python 3",
   "language": "python",
   "name": "python3"
  },
  "language_info": {
   "codemirror_mode": {
    "name": "ipython",
    "version": 3
   },
   "file_extension": ".py",
   "mimetype": "text/x-python",
   "name": "python",
   "nbconvert_exporter": "python",
   "pygments_lexer": "ipython3",
   "version": "3.9.7"
  },
  "orig_nbformat": 4,
  "vscode": {
   "interpreter": {
    "hash": "eeedea2d33308b6a28483936704865e960f19d1b64b2fbe66cf286ba9e0d4d41"
   }
  }
 },
 "nbformat": 4,
 "nbformat_minor": 2
}
